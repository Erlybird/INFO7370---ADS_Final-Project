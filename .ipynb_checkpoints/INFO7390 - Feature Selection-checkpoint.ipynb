{
 "cells": [
  {
   "cell_type": "markdown",
   "id": "a9f50e18",
   "metadata": {},
   "source": [
    "# INFO7390 - Advance Data Science and Architecture\n",
    "\n",
    "## Project Title: Job Recommendation System\n",
    "### Teammates:\n",
    "1. Aniruddha Tambe\n",
    "2. Shubhankar Salvi\n",
    "3. Sangram Vuppula"
   ]
  },
  {
   "cell_type": "markdown",
   "id": "e5b0e00b",
   "metadata": {},
   "source": [
    "## Importing packages:"
   ]
  },
  {
   "cell_type": "code",
   "execution_count": 1,
   "id": "70acf6df",
   "metadata": {},
   "outputs": [],
   "source": [
    "import pandas as pd\n",
    "import matplotlib.pyplot as plt\n",
    "import numpy as np\n",
    "import missingno as msno\n",
    "from icecream import ic\n",
    "import os\n",
    "import re\n",
    "import plotly.express as px\n",
    "import plotly.graph_objects as go\n",
    "import plotly.io as pio\n",
    "import plotly.figure_factory as ff\n",
    "from kaleido.scopes.plotly import PlotlyScope\n",
    "from sklearn.impute import SimpleImputer\n",
    "from sklearn.preprocessing import StandardScaler\n",
    "from sklearn.preprocessing import OneHotEncoder\n",
    "from sklearn.feature_selection import SelectKBest\n",
    "import warnings\n",
    "warnings.filterwarnings(action='ignore')\n",
    "pd.options.display.max_columns = 100\n",
    "\n",
    "# plotly settings and functions\n",
    "scope = PlotlyScope(plotlyjs=\"https://cdn.plot.ly/plotly-latest.min.js\")\n",
    "pio.templates.default = 'plotly_white'"
   ]
  },
  {
   "cell_type": "markdown",
   "id": "cc9c82ec",
   "metadata": {},
   "source": [
    "## Dataset:\n",
    "\n",
    "1. Stack Overflow 2018 Developer Survey - Individual responses on the 2018 Developer Survey fielded by Stack Overflow\n",
    "\n",
    "https://www.kaggle.com/stackoverflow/stack-overflow-2018-developer-survey#survey_results_public.csv\n",
    "\n",
    "2. U.S. Technology Jobs on Dice.com - 22,000 US-based Technology Job Listings\n",
    "\n",
    "https://www.kaggle.com/PromptCloudHQ/us-technology-jobs-on-dicecom"
   ]
  },
  {
   "cell_type": "code",
   "execution_count": 2,
   "id": "4a1346d5",
   "metadata": {},
   "outputs": [],
   "source": [
    "survey = pd.read_csv(\"./dataset/survey_results_public.csv\")"
   ]
  },
  {
   "cell_type": "markdown",
   "id": "b8407f8b",
   "metadata": {},
   "source": [
    "## Preliminary data summary"
   ]
  },
  {
   "cell_type": "code",
   "execution_count": 3,
   "id": "e1d71462",
   "metadata": {},
   "outputs": [
    {
     "name": "stdout",
     "output_type": "stream",
     "text": [
      "Number of columns:  129\n"
     ]
    }
   ],
   "source": [
    "# List all column names\n",
    "all_col_names = survey.columns.values.tolist()\n",
    "print('Number of columns: ',len(all_col_names))\n",
    "#print(all_col_names)"
   ]
  },
  {
   "cell_type": "code",
   "execution_count": 4,
   "id": "4c1ec6c9",
   "metadata": {},
   "outputs": [
    {
     "name": "stdout",
     "output_type": "stream",
     "text": [
      "Number of categorical columns:  87\n",
      "Number of float columns:  41\n",
      "Number of int columns:  1\n"
     ]
    }
   ],
   "source": [
    "# Get categorical columns\n",
    "cat_cols = [col for col in survey.columns if survey[col].dtype.name==\"object\"]\n",
    "float_cols = [col for col in survey.columns if survey[col].dtype.name==\"float64\"]\n",
    "int_cols = [col for col in survey.columns if survey[col].dtype.name==\"int64\"]\n",
    "print('Number of categorical columns: ',len(cat_cols))\n",
    "print('Number of float columns: ',len(float_cols))\n",
    "print('Number of int columns: ',len(int_cols))"
   ]
  },
  {
   "cell_type": "markdown",
   "id": "2f22ad45",
   "metadata": {},
   "source": [
    "## Findings\n",
    "\n",
    "1. Number of categorical columns:  87\n",
    "2. Number of float columns:  41\n",
    "3. Number of int columns:  1\n",
    "4. Datatypes found: float64(41), int64(1), object(87)\n",
    "5. Rows x Columns: 98855 x 129"
   ]
  },
  {
   "cell_type": "markdown",
   "id": "d7994d64",
   "metadata": {},
   "source": [
    "## Dropping irrelevant columns"
   ]
  },
  {
   "cell_type": "code",
   "execution_count": 5,
   "id": "e282f95f",
   "metadata": {},
   "outputs": [
    {
     "name": "stdout",
     "output_type": "stream",
     "text": [
      "Number of columns dropped:  102\n"
     ]
    }
   ],
   "source": [
    "attrToDrop=[]\n",
    "survey=survey[survey.columns.difference(attrToDrop)]\n",
    "print(\"Number of columns dropped: \",len(attrToDrop))"
   ]
  },
  {
   "cell_type": "code",
   "execution_count": 6,
   "id": "5e4beae2",
   "metadata": {},
   "outputs": [
    {
     "name": "stdout",
     "output_type": "stream",
     "text": [
      "Number of categorical columns:  43\n",
      "Number of float columns:  29\n",
      "Number of int columns:  1\n",
      "Total number of columns:  73\n"
     ]
    }
   ],
   "source": [
    "# Get categorical columns\n",
    "cat_cols = [col for col in survey.columns if survey[col].dtype.name==\"object\"]\n",
    "float_cols = [col for col in survey.columns if survey[col].dtype.name==\"float64\"]\n",
    "int_cols = [col for col in survey.columns if survey[col].dtype.name==\"int64\"]\n",
    "print('Number of categorical columns: ',len(cat_cols))\n",
    "print('Number of float columns: ',len(float_cols))\n",
    "print('Number of int columns: ',len(int_cols))\n",
    "print('Total number of columns: ',len(survey.columns))"
   ]
  },
  {
   "cell_type": "markdown",
   "id": "26ded43e",
   "metadata": {
    "tags": [
     "remove_cell"
    ]
   },
   "source": [
    "## Export survey to csv"
   ]
  },
  {
   "cell_type": "code",
   "execution_count": 13,
   "id": "2df97ccc",
   "metadata": {},
   "outputs": [],
   "source": [
    "survey.to_csv('./dataset/survey_dropped_columns.csv',index=False)"
   ]
  },
  {
   "cell_type": "markdown",
   "id": "82c95d04",
   "metadata": {},
   "source": [
    "## Survey"
   ]
  },
  {
   "cell_type": "code",
   "execution_count": null,
   "id": "14ef2ac4",
   "metadata": {},
   "outputs": [],
   "source": []
  }
 ],
 "metadata": {
  "kernelspec": {
   "display_name": "Python 3 (ipykernel)",
   "language": "python",
   "name": "python3"
  },
  "language_info": {
   "codemirror_mode": {
    "name": "ipython",
    "version": 3
   },
   "file_extension": ".py",
   "mimetype": "text/x-python",
   "name": "python",
   "nbconvert_exporter": "python",
   "pygments_lexer": "ipython3",
   "version": "3.9.12"
  }
 },
 "nbformat": 4,
 "nbformat_minor": 5
}
