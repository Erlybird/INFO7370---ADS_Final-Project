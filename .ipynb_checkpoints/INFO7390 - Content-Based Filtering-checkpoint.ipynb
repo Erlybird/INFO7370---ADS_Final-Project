{
 "cells": [
  {
   "cell_type": "markdown",
   "id": "d404a281",
   "metadata": {},
   "source": [
    "## Import packages"
   ]
  },
  {
   "cell_type": "code",
   "execution_count": 1,
   "id": "b9fbe25f",
   "metadata": {},
   "outputs": [],
   "source": [
    "import numpy as np\n",
    "import pandas as pd\n",
    "from sklearn.metrics.pairwise import cosine_similarity\n",
    "from sklearn.metrics import mean_squared_error\n",
    "from sklearn.model_selection import train_test_split\n",
    "from sklearn.feature_extraction.text import TfidfVectorizer\n",
    "from sklearn.metrics.pairwise import linear_kernel"
   ]
  },
  {
   "cell_type": "markdown",
   "id": "f56108bd",
   "metadata": {},
   "source": [
    "## Load dataset"
   ]
  },
  {
   "cell_type": "code",
   "execution_count": 17,
   "id": "73eb7568",
   "metadata": {},
   "outputs": [],
   "source": [
    "#movies = pd.read_csv('./dataset/imbd/movies_metadata.csv')\n",
    "jobs = pd.read_csv('./dataset/dice_com-job_us_sample.csv')"
   ]
  },
  {
   "cell_type": "markdown",
   "id": "e7d27fa1",
   "metadata": {},
   "source": [
    "## TfidfVectorizer - Convert to Numerical"
   ]
  },
  {
   "cell_type": "code",
   "execution_count": 20,
   "id": "3effaa18",
   "metadata": {},
   "outputs": [
    {
     "data": {
      "text/plain": [
       "(22000, 117417)"
      ]
     },
     "execution_count": 20,
     "metadata": {},
     "output_type": "execute_result"
    }
   ],
   "source": [
    "tfidf = TfidfVectorizer(stop_words='english')\n",
    "jobs['jobdescription'] = jobs['jobdescription'].fillna('')\n",
    "\n",
    "#Construct the required TF-IDF matrix by applying the fit_transform method on the overview feature\n",
    "overview_matrix = tfidf.fit_transform(jobs['jobdescription'])\n",
    "\n",
    "#Output the shape of tfidf_matrix\n",
    "overview_matrix.shape\n",
    "\n",
    "#Every jobs description has 117417 number of features (words )"
   ]
  },
  {
   "cell_type": "markdown",
   "id": "4cb0f8f8",
   "metadata": {},
   "source": [
    "## Building the similarity matrix"
   ]
  },
  {
   "cell_type": "code",
   "execution_count": 21,
   "id": "407813c9",
   "metadata": {},
   "outputs": [],
   "source": [
    "similarity_matrix = linear_kernel(overview_matrix,overview_matrix)"
   ]
  },
  {
   "cell_type": "code",
   "execution_count": 22,
   "id": "91376064",
   "metadata": {},
   "outputs": [
    {
     "data": {
      "text/plain": [
       "array([[1.        , 0.05712901, 0.08229116, ..., 0.16367784, 0.12781094,\n",
       "        0.03852916],\n",
       "       [0.05712901, 1.        , 0.04510606, ..., 0.08193473, 0.06210229,\n",
       "        0.02303946],\n",
       "       [0.08229116, 0.04510606, 1.        , ..., 0.13467453, 0.07733971,\n",
       "        0.01152106],\n",
       "       ...,\n",
       "       [0.16367784, 0.08193473, 0.13467453, ..., 1.        , 0.11182536,\n",
       "        0.02333776],\n",
       "       [0.12781094, 0.06210229, 0.07733971, ..., 0.11182536, 1.        ,\n",
       "        0.02400144],\n",
       "       [0.03852916, 0.02303946, 0.01152106, ..., 0.02333776, 0.02400144,\n",
       "        1.        ]])"
      ]
     },
     "execution_count": 22,
     "metadata": {},
     "output_type": "execute_result"
    }
   ],
   "source": [
    "similarity_matrix"
   ]
  },
  {
   "cell_type": "markdown",
   "id": "d599c0e6",
   "metadata": {},
   "source": [
    "## Movies index mapping"
   ]
  },
  {
   "cell_type": "code",
   "execution_count": 38,
   "id": "5039a1ae",
   "metadata": {},
   "outputs": [
    {
     "data": {
      "text/plain": [
       "uniq_id\n",
       "418ff92580b270ef4e7c14f0ddfc36b4        0\n",
       "8aec88cba08d53da65ab99cf20f6f9d9        1\n",
       "46baa1f69ac07779274bcd90b85d9a72        2\n",
       "3941b2f206ae0f900c4fba4ac0b18719        3\n",
       "45efa1f6bc65acc32bbbb953a1ed13b7        4\n",
       "                                    ...  \n",
       "86e27ce6b7e631e55d69d142c7d43df2    21995\n",
       "4287c7ee3317ccf1edd76e238cf8e584    21996\n",
       "d7512f0181d69f83f96db38cd77a4d08    21997\n",
       "ec375268b494b3bcbed1635d64226112    21998\n",
       "9a4e8c27f74af4c0d2f6efbd420a8a91    21999\n",
       "Length: 22000, dtype: int64"
      ]
     },
     "execution_count": 38,
     "metadata": {},
     "output_type": "execute_result"
    }
   ],
   "source": [
    "mapping = pd.Series(jobs.index,index = jobs['uniq_id'])\n",
    "mapping"
   ]
  },
  {
   "cell_type": "markdown",
   "id": "ff25d8e2",
   "metadata": {},
   "source": [
    "## Building Recommender System"
   ]
  },
  {
   "cell_type": "code",
   "execution_count": 72,
   "id": "8f5d23f6",
   "metadata": {},
   "outputs": [],
   "source": [
    "def recommend_jobs_based_on_description(job_input):\n",
    "    \n",
    "    job_index = mapping[job_input]\n",
    "    #get similarity values with other movies\n",
    "    \n",
    "    #similarity_score is the list of index and similarity matrix\n",
    "    similarity_score = list(enumerate(similarity_matrix[job_index]))\n",
    "    \n",
    "    #sort in descending order the similarity score of movie inputted with all the other movies\n",
    "    similarity_score = sorted(similarity_score, key=lambda x: x[1], reverse=True)\n",
    "    \n",
    "    # Get the scores of the 10 most similar movies. Ignore the first movie.\n",
    "    similarity_score = similarity_score[1:10]\n",
    "    \n",
    "    #return movie names using the mapping series\n",
    "    job_indices = [i[0] for i in similarity_score]\n",
    "    \n",
    "    return (jobs['jobtitle'].iloc[job_indices] + ' @ ' + jobs['company'].iloc[job_indices])"
   ]
  },
  {
   "cell_type": "code",
   "execution_count": 71,
   "id": "e08b67f0",
   "metadata": {},
   "outputs": [
    {
     "name": "stdout",
     "output_type": "stream",
     "text": [
      "Input Job:  0    AUTOMATION TEST ENGINEER\n",
      "Name: jobtitle, dtype: object\n"
     ]
    },
    {
     "data": {
      "text/plain": [
       "19680    Websphere Commerce Developer (Locals to MI) @ ...\n",
       "8030     WebSphere-MQ Administrator @ Randstad Technolo...\n",
       "18191    Java multiple positions $75K to $130K + bonus ...\n",
       "6164              SDET @ Paramount Software Solutions, Inc\n",
       "12420             SDET @ Paramount Software Solutions, Inc\n",
       "6297     WebSphere Message Queue (WMQ) admin / WebSpher...\n",
       "16990       MDMS (Meter Data Management System) @ Startekk\n",
       "9601     Websphere Commerce Applications Architect @ Th...\n",
       "10633                   WebSphere Admin @ SV Professionals\n",
       "dtype: object"
      ]
     },
     "execution_count": 71,
     "metadata": {},
     "output_type": "execute_result"
    }
   ],
   "source": [
    "recommend_jobs_based_on_description('418ff92580b270ef4e7c14f0ddfc36b4')"
   ]
  }
 ],
 "metadata": {
  "kernelspec": {
   "display_name": "Python 3 (ipykernel)",
   "language": "python",
   "name": "python3"
  },
  "language_info": {
   "codemirror_mode": {
    "name": "ipython",
    "version": 3
   },
   "file_extension": ".py",
   "mimetype": "text/x-python",
   "name": "python",
   "nbconvert_exporter": "python",
   "pygments_lexer": "ipython3",
   "version": "3.9.12"
  }
 },
 "nbformat": 4,
 "nbformat_minor": 5
}
