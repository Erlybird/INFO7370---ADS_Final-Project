{
 "cells": [
  {
   "cell_type": "markdown",
   "id": "d404a281",
   "metadata": {},
   "source": [
    "## Import packages"
   ]
  },
  {
   "cell_type": "code",
   "execution_count": 1,
   "id": "b9fbe25f",
   "metadata": {},
   "outputs": [],
   "source": [
    "import numpy as np\n",
    "import pandas as pd\n",
    "from sklearn.metrics.pairwise import cosine_similarity\n",
    "from sklearn.metrics import mean_squared_error\n",
    "from sklearn.model_selection import train_test_split\n",
    "from sklearn.feature_extraction.text import TfidfVectorizer\n",
    "from sklearn.metrics.pairwise import linear_kernel"
   ]
  },
  {
   "cell_type": "markdown",
   "id": "f56108bd",
   "metadata": {},
   "source": [
    "## Load dataset"
   ]
  },
  {
   "cell_type": "code",
   "execution_count": 2,
   "id": "73eb7568",
   "metadata": {},
   "outputs": [
    {
     "name": "stderr",
     "output_type": "stream",
     "text": [
      "C:\\Users\\18573\\AppData\\Local\\Temp\\ipykernel_17356\\2842301193.py:1: DtypeWarning: Columns (10) have mixed types. Specify dtype option on import or set low_memory=False.\n",
      "  movies = pd.read_csv('./dataset/imbd/movies_metadata.csv')\n"
     ]
    }
   ],
   "source": [
    "movies = pd.read_csv('./dataset/imbd/movies_metadata.csv')"
   ]
  },
  {
   "cell_type": "markdown",
   "id": "3f88ce96",
   "metadata": {},
   "source": [
    "## Overview of Toy Story"
   ]
  },
  {
   "cell_type": "code",
   "execution_count": 3,
   "id": "913adb84",
   "metadata": {},
   "outputs": [
    {
     "data": {
      "text/plain": [
       "\"Led by Woody, Andy's toys live happily in his room until Andy's birthday brings Buzz Lightyear onto the scene. Afraid of losing his place in Andy's heart, Woody plots against Buzz. But when circumstances separate Buzz and Woody from their owner, the duo eventually learns to put aside their differences.\""
      ]
     },
     "execution_count": 3,
     "metadata": {},
     "output_type": "execute_result"
    }
   ],
   "source": [
    "movies['overview'][0]"
   ]
  },
  {
   "cell_type": "markdown",
   "id": "e7d27fa1",
   "metadata": {},
   "source": [
    "## TfidfVectorizer - Convert to Numerical"
   ]
  },
  {
   "cell_type": "code",
   "execution_count": 4,
   "id": "d99c9581",
   "metadata": {},
   "outputs": [
    {
     "data": {
      "text/plain": [
       "(45466, 75827)"
      ]
     },
     "execution_count": 4,
     "metadata": {},
     "output_type": "execute_result"
    }
   ],
   "source": [
    "tfidf = TfidfVectorizer(stop_words='english')\n",
    "movies['overview'] = movies['overview'].fillna('')\n",
    "\n",
    "#Construct the required TF-IDF matrix by applying the fit_transform method on the overview feature\n",
    "overview_matrix = tfidf.fit_transform(movies['overview'])\n",
    "\n",
    "#Output the shape of tfidf_matrix\n",
    "overview_matrix.shape\n",
    "\n",
    "#Every movie has 75927 number of features (words )"
   ]
  },
  {
   "cell_type": "markdown",
   "id": "4cb0f8f8",
   "metadata": {},
   "source": [
    "## Building the similarity matrix"
   ]
  },
  {
   "cell_type": "code",
   "execution_count": 5,
   "id": "407813c9",
   "metadata": {},
   "outputs": [],
   "source": [
    "similarity_matrix = linear_kernel(overview_matrix,overview_matrix)"
   ]
  },
  {
   "cell_type": "code",
   "execution_count": 6,
   "id": "91376064",
   "metadata": {},
   "outputs": [
    {
     "data": {
      "text/plain": [
       "array([[1.        , 0.01504121, 0.        , ..., 0.        , 0.00595453,\n",
       "        0.        ],\n",
       "       [0.01504121, 1.        , 0.04681953, ..., 0.        , 0.02198641,\n",
       "        0.00929411],\n",
       "       [0.        , 0.04681953, 1.        , ..., 0.        , 0.01402548,\n",
       "        0.        ],\n",
       "       ...,\n",
       "       [0.        , 0.        , 0.        , ..., 1.        , 0.        ,\n",
       "        0.        ],\n",
       "       [0.00595453, 0.02198641, 0.01402548, ..., 0.        , 1.        ,\n",
       "        0.        ],\n",
       "       [0.        , 0.00929411, 0.        , ..., 0.        , 0.        ,\n",
       "        1.        ]])"
      ]
     },
     "execution_count": 6,
     "metadata": {},
     "output_type": "execute_result"
    }
   ],
   "source": [
    "similarity_matrix"
   ]
  },
  {
   "cell_type": "markdown",
   "id": "0369fe72",
   "metadata": {},
   "source": [
    "## Movies index mapping"
   ]
  },
  {
   "cell_type": "code",
   "execution_count": 8,
   "id": "a16155e4",
   "metadata": {},
   "outputs": [
    {
     "data": {
      "text/plain": [
       "title\n",
       "Toy Story                          0\n",
       "Jumanji                            1\n",
       "Grumpier Old Men                   2\n",
       "Waiting to Exhale                  3\n",
       "Father of the Bride Part II        4\n",
       "                               ...  \n",
       "Subdue                         45461\n",
       "Century of Birthing            45462\n",
       "Betrayal                       45463\n",
       "Satan Triumphant               45464\n",
       "Queerama                       45465\n",
       "Length: 45466, dtype: int64"
      ]
     },
     "execution_count": 8,
     "metadata": {},
     "output_type": "execute_result"
    }
   ],
   "source": [
    "mapping = pd.Series(movies.index,index = movies['title'])\n",
    "mapping"
   ]
  },
  {
   "cell_type": "markdown",
   "id": "31c550d3",
   "metadata": {},
   "source": [
    "## Building Recommender System"
   ]
  },
  {
   "cell_type": "code",
   "execution_count": 12,
   "id": "30e64490",
   "metadata": {},
   "outputs": [],
   "source": [
    "def recommend_movies_based_on_plot(movie_input):\n",
    "    \n",
    "    movie_index = mapping[movie_input]\n",
    "    #get similarity values with other movies\n",
    "    \n",
    "    #similarity_score is the list of index and similarity matrix\n",
    "    similarity_score = list(enumerate(similarity_matrix[movie_index]))\n",
    "    \n",
    "    #sort in descending order the similarity score of movie inputted with all the other movies\n",
    "    similarity_score = sorted(similarity_score, key=lambda x: x[1], reverse=True)\n",
    "    \n",
    "    # Get the scores of the 10 most similar movies. Ignore the first movie.\n",
    "    similarity_score = similarity_score[1:10]\n",
    "    \n",
    "    #return movie names using the mapping series\n",
    "    movie_indices = [i[0] for i in similarity_score]\n",
    "    \n",
    "    return (movies['title'].iloc[movie_indices])"
   ]
  },
  {
   "cell_type": "code",
   "execution_count": 13,
   "id": "ce34993b",
   "metadata": {},
   "outputs": [
    {
     "data": {
      "text/plain": [
       "23530                      Andy Hardy Meets Debutante\n",
       "21422                                 A Family Affair\n",
       "26304                          You're Only Young Once\n",
       "10301                          The 40 Year Old Virgin\n",
       "29369                  Andy Hardy's Private Secretary\n",
       "23843                     Andy Hardy's Blonde Trouble\n",
       "15348                                     Toy Story 3\n",
       "43427                Andy Kaufman Plays Carnegie Hall\n",
       "38476    Superstar: The Life and Times of Andy Warhol\n",
       "42721    Andy Peters: Exclamation Mark Question Point\n",
       "8327                                        The Champ\n",
       "28128                       The Mayor of Casterbridge\n",
       "21359                        Andy Hardy's Double Life\n",
       "32086                                Brother's Keeper\n",
       "Name: title, dtype: object"
      ]
     },
     "execution_count": 13,
     "metadata": {},
     "output_type": "execute_result"
    }
   ],
   "source": [
    "recommend_movies_based_on_plot('Life Begins for Andy Hardy')"
   ]
  }
 ],
 "metadata": {
  "kernelspec": {
   "display_name": "Python 3 (ipykernel)",
   "language": "python",
   "name": "python3"
  },
  "language_info": {
   "codemirror_mode": {
    "name": "ipython",
    "version": 3
   },
   "file_extension": ".py",
   "mimetype": "text/x-python",
   "name": "python",
   "nbconvert_exporter": "python",
   "pygments_lexer": "ipython3",
   "version": "3.9.12"
  }
 },
 "nbformat": 4,
 "nbformat_minor": 5
}
