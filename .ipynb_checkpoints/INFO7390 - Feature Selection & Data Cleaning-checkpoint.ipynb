{
 "cells": [
  {
   "cell_type": "markdown",
   "id": "a9f50e18",
   "metadata": {},
   "source": [
    "# INFO7390 - Advance Data Science and Architecture\n",
    "\n",
    "## Project Title: Job Recommendation System\n",
    "### Teammates:\n",
    "1. Aniruddha Tambe\n",
    "2. Shubhankar Salvi\n",
    "3. Sangram Vuppula"
   ]
  },
  {
   "cell_type": "markdown",
   "id": "e5b0e00b",
   "metadata": {},
   "source": [
    "## Importing packages:"
   ]
  },
  {
   "cell_type": "code",
   "execution_count": null,
   "id": "70acf6df",
   "metadata": {},
   "outputs": [],
   "source": [
    "import pandas as pd\n",
    "import matplotlib.pyplot as plt\n",
    "import numpy as np\n",
    "import missingno as msno\n",
    "from icecream import ic\n",
    "import os\n",
    "import re\n",
    "import plotly.express as px\n",
    "import plotly.graph_objects as go\n",
    "import plotly.io as pio\n",
    "import plotly.figure_factory as ff\n",
    "from kaleido.scopes.plotly import PlotlyScope\n",
    "from sklearn.impute import SimpleImputer\n",
    "from sklearn.preprocessing import StandardScaler\n",
    "from sklearn.preprocessing import LabelEncoder \n",
    "from sklearn.preprocessing import OneHotEncoder\n",
    "from sklearn.feature_selection import SelectKBest\n",
    "import warnings\n",
    "warnings.filterwarnings(action='ignore')\n",
    "pd.options.display.max_columns = 100\n",
    "\n",
    "# plotly settings and functions\n",
    "scope = PlotlyScope(plotlyjs=\"https://cdn.plot.ly/plotly-latest.min.js\")\n",
    "pio.templates.default = 'plotly_white'"
   ]
  },
  {
   "cell_type": "markdown",
   "id": "cc9c82ec",
   "metadata": {},
   "source": [
    "## Dataset:\n",
    "\n",
    "1. Stack Overflow 2018 Developer Survey - Individual responses on the 2018 Developer Survey fielded by Stack Overflow\n",
    "\n",
    "https://www.kaggle.com/stackoverflow/stack-overflow-2018-developer-survey#survey_results_public.csv\n",
    "\n",
    "2. U.S. Technology Jobs on Dice.com - 22,000 US-based Technology Job Listings\n",
    "\n",
    "https://www.kaggle.com/PromptCloudHQ/us-technology-jobs-on-dicecom"
   ]
  },
  {
   "cell_type": "code",
   "execution_count": null,
   "id": "4a1346d5",
   "metadata": {},
   "outputs": [],
   "source": [
    "survey = pd.read_csv(\"./dataset/survey_results_public.csv\")"
   ]
  },
  {
   "cell_type": "markdown",
   "id": "b8407f8b",
   "metadata": {},
   "source": [
    "## Preliminary data summary"
   ]
  },
  {
   "cell_type": "code",
   "execution_count": null,
   "id": "e1d71462",
   "metadata": {},
   "outputs": [],
   "source": [
    "# List all column names\n",
    "all_col_names = survey.columns.values.tolist()\n",
    "print('Number of columns: ',len(all_col_names))\n",
    "#print(all_col_names)"
   ]
  },
  {
   "cell_type": "code",
   "execution_count": null,
   "id": "4c1ec6c9",
   "metadata": {},
   "outputs": [],
   "source": [
    "# Get categorical columns\n",
    "cat_cols = [col for col in survey.columns if survey[col].dtype.name==\"object\"]\n",
    "float_cols = [col for col in survey.columns if survey[col].dtype.name==\"float64\"]\n",
    "int_cols = [col for col in survey.columns if survey[col].dtype.name==\"int64\"]\n",
    "print('Number of categorical columns: ',len(cat_cols))\n",
    "print('Number of float columns: ',len(float_cols))\n",
    "print('Number of int columns: ',len(int_cols))"
   ]
  },
  {
   "cell_type": "markdown",
   "id": "2f22ad45",
   "metadata": {},
   "source": [
    "## Findings\n",
    "\n",
    "1. Number of categorical columns:  87\n",
    "2. Number of float columns:  41\n",
    "3. Number of int columns:  1\n",
    "4. Datatypes found: float64(41), int64(1), object(87)\n",
    "5. Rows x Columns: 98855 x 129"
   ]
  },
  {
   "cell_type": "markdown",
   "id": "d7994d64",
   "metadata": {},
   "source": [
    "## Dropping irrelevant columns"
   ]
  },
  {
   "cell_type": "code",
   "execution_count": null,
   "id": "e282f95f",
   "metadata": {},
   "outputs": [],
   "source": [
    "attrToDrop=[]\n",
    "survey=survey[survey.columns.difference(attrToDrop)]\n",
    "print(\"Number of columns dropped: \",len(attrToDrop))"
   ]
  },
  {
   "cell_type": "code",
   "execution_count": null,
   "id": "5e4beae2",
   "metadata": {},
   "outputs": [],
   "source": [
    "# Get categorical columns\n",
    "cat_cols = [col for col in survey.columns if survey[col].dtype.name==\"object\"]\n",
    "float_cols = [col for col in survey.columns if survey[col].dtype.name==\"float64\"]\n",
    "int_cols = [col for col in survey.columns if survey[col].dtype.name==\"int64\"]\n",
    "print('Number of categorical columns: ',len(cat_cols))\n",
    "print('Number of float columns: ',len(float_cols))\n",
    "print('Number of int columns: ',len(int_cols))\n",
    "print('Total number of columns: ',len(survey.columns))"
   ]
  },
  {
   "cell_type": "markdown",
   "id": "842c0ef4",
   "metadata": {},
   "source": [
    "## Replace NA values with \"\""
   ]
  },
  {
   "cell_type": "code",
   "execution_count": null,
   "id": "6846deb1",
   "metadata": {},
   "outputs": [],
   "source": [
    "#survey = survey.replace(np.nan, '', regex=True)"
   ]
  },
  {
   "cell_type": "markdown",
   "id": "5883515e",
   "metadata": {
    "tags": [
     "remove_cell"
    ]
   },
   "source": [
    "## Export survey to csv"
   ]
  },
  {
   "cell_type": "code",
   "execution_count": null,
   "id": "2df97ccc",
   "metadata": {},
   "outputs": [],
   "source": [
    "survey.to_csv('./dataset/survey_dropped_columns.csv',index=False)"
   ]
  },
  {
   "cell_type": "markdown",
   "id": "f55ec7cb",
   "metadata": {},
   "source": [
    "## Encoding categorical features"
   ]
  },
  {
   "cell_type": "code",
   "execution_count": null,
   "id": "ee4deee4",
   "metadata": {},
   "outputs": [],
   "source": [
    "encode = LabelEncoder()"
   ]
  },
  {
   "cell_type": "code",
   "execution_count": null,
   "id": "8ceb07b1",
   "metadata": {},
   "outputs": [],
   "source": [
    "# Converting the variables\n",
    "for col in cat_cols:\n",
    "    #print('Converted: ', col)\n",
    "    survey[col]=encode.fit_transform(survey[col])"
   ]
  },
  {
   "cell_type": "code",
   "execution_count": null,
   "id": "dbd2abdd",
   "metadata": {},
   "outputs": [],
   "source": [
    "cat_cols = [col for col in survey.columns if survey[col].dtype.name==\"object\"]\n",
    "print(cat_cols)"
   ]
  },
  {
   "cell_type": "code",
   "execution_count": null,
   "id": "81eecc50",
   "metadata": {},
   "outputs": [],
   "source": [
    "survey['AssessJob4'].unique()"
   ]
  },
  {
   "cell_type": "code",
   "execution_count": null,
   "id": "2fd1ca0d",
   "metadata": {},
   "outputs": [],
   "source": [
    "for col in cat_cols: \n",
    "    if col.__contains__('Assess'):\n",
    "        survey[col] = survey[col].fillna(survey[col].mode()[0])"
   ]
  }
 ],
 "metadata": {
  "kernelspec": {
   "display_name": "Python 3 (ipykernel)",
   "language": "python",
   "name": "python3"
  },
  "language_info": {
   "codemirror_mode": {
    "name": "ipython",
    "version": 3
   },
   "file_extension": ".py",
   "mimetype": "text/x-python",
   "name": "python",
   "nbconvert_exporter": "python",
   "pygments_lexer": "ipython3",
   "version": "3.9.12"
  }
 },
 "nbformat": 4,
 "nbformat_minor": 5
}
