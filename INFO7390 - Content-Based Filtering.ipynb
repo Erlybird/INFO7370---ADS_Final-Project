{
 "cells": [
  {
   "cell_type": "markdown",
   "id": "d404a281",
   "metadata": {},
   "source": [
    "## Import packages"
   ]
  },
  {
   "cell_type": "code",
   "execution_count": 1,
   "id": "b9fbe25f",
   "metadata": {},
   "outputs": [],
   "source": [
    "import numpy as np\n",
    "import pandas as pd\n",
    "from sklearn.metrics.pairwise import cosine_similarity\n",
    "from sklearn.metrics import mean_squared_error\n",
    "from sklearn.model_selection import train_test_split\n",
    "from sklearn.feature_extraction.text import TfidfVectorizer\n",
    "from sklearn.metrics.pairwise import linear_kernel"
   ]
  },
  {
   "cell_type": "markdown",
   "id": "f56108bd",
   "metadata": {},
   "source": [
    "## Load dataset"
   ]
  },
  {
   "cell_type": "code",
   "execution_count": 2,
   "id": "73eb7568",
   "metadata": {},
   "outputs": [
    {
     "name": "stderr",
     "output_type": "stream",
     "text": [
      "C:\\Users\\18573\\AppData\\Local\\Temp\\ipykernel_17356\\2842301193.py:1: DtypeWarning: Columns (10) have mixed types. Specify dtype option on import or set low_memory=False.\n",
      "  movies = pd.read_csv('./dataset/imbd/movies_metadata.csv')\n"
     ]
    }
   ],
   "source": [
    "movies = pd.read_csv('./dataset/imbd/movies_metadata.csv')"
   ]
  },
  {
   "cell_type": "markdown",
   "id": "3f88ce96",
   "metadata": {},
   "source": [
    "## Overview of Toy Story"
   ]
  },
  {
   "cell_type": "code",
   "execution_count": 3,
   "id": "913adb84",
   "metadata": {},
   "outputs": [
    {
     "data": {
      "text/plain": [
       "\"Led by Woody, Andy's toys live happily in his room until Andy's birthday brings Buzz Lightyear onto the scene. Afraid of losing his place in Andy's heart, Woody plots against Buzz. But when circumstances separate Buzz and Woody from their owner, the duo eventually learns to put aside their differences.\""
      ]
     },
     "execution_count": 3,
     "metadata": {},
     "output_type": "execute_result"
    }
   ],
   "source": [
    "movies['overview'][0]"
   ]
  },
  {
   "cell_type": "markdown",
   "id": "e7d27fa1",
   "metadata": {},
   "source": [
    "## TfidfVectorizer - Convert to Numerical"
   ]
  },
  {
   "cell_type": "code",
   "execution_count": 14,
   "id": "27176f97",
   "metadata": {},
   "outputs": [
    {
     "data": {
      "text/plain": [
       "(45466, 75827)"
      ]
     },
     "execution_count": 14,
     "metadata": {},
     "output_type": "execute_result"
    }
   ],
   "source": [
    "tfidf = TfidfVectorizer(stop_words='english')\n",
    "movies['overview'] = movies['overview'].fillna('')\n",
    "\n",
    "#Construct the required TF-IDF matrix by applying the fit_transform method on the overview feature\n",
    "overview_matrix = tfidf.fit_transform(movies['overview'])\n",
    "\n",
    "#Output the shape of tfidf_matrix\n",
    "overview_matrix.shape\n",
    "\n",
    "#Every movie has 75927 number of features (words )"
   ]
  },
  {
   "cell_type": "code",
   "execution_count": 16,
   "id": "12fe82ac",
   "metadata": {},
   "outputs": [
    {
     "name": "stdout",
     "output_type": "stream",
     "text": [
      "  (0, 17764)\t0.13483149538639247\n",
      "  (0, 4388)\t0.1474882034218405\n",
      "  (0, 38030)\t0.10142919482788751\n",
      "  (0, 21887)\t0.10438761058719498\n",
      "  (0, 19641)\t0.13281884272823927\n",
      "  (0, 48558)\t0.10339358185033234\n",
      "  (0, 59519)\t0.13008016104455086\n",
      "  (0, 12490)\t0.12544427954397822\n",
      "  (0, 51108)\t0.13434817283119177\n",
      "  (0, 29238)\t0.10093917370354445\n",
      "  (0, 50914)\t0.09190797940163035\n",
      "  (0, 39423)\t0.11907123344715953\n",
      "  (0, 1847)\t0.140911774178889\n",
      "  (0, 58571)\t0.1135591886873686\n",
      "  (0, 38693)\t0.20627924682810617\n",
      "  (0, 9874)\t0.5028038686135609\n",
      "  (0, 9087)\t0.10635375129287977\n",
      "  (0, 7491)\t0.12380553184830104\n",
      "  (0, 56872)\t0.111248510865236\n",
      "  (0, 28729)\t0.13311522181618415\n",
      "  (0, 39012)\t0.08718689178959059\n",
      "  (0, 67874)\t0.14878284660693247\n",
      "  (0, 3159)\t0.41178365711725945\n",
      "  (0, 73468)\t0.4809827114790237\n",
      "  (0, 38088)\t0.10739705953465473\n",
      "  :\t:\n",
      "  (45464, 26957)\t0.07350962631701621\n",
      "  (45464, 18919)\t0.09271509240923419\n",
      "  (45464, 18119)\t0.07466631763708827\n",
      "  (45464, 39012)\t0.06829617779135382\n",
      "  (45465, 16520)\t0.32373307886945113\n",
      "  (45465, 7157)\t0.2914932130700733\n",
      "  (45465, 43243)\t0.23656332414679263\n",
      "  (45465, 15834)\t0.24236871653353803\n",
      "  (45465, 69170)\t0.22812100877821387\n",
      "  (45465, 34173)\t0.2414656917302718\n",
      "  (45465, 4443)\t0.3118343036540516\n",
      "  (45465, 3912)\t0.22202762594955974\n",
      "  (45465, 22285)\t0.2869695086824784\n",
      "  (45465, 529)\t0.19370637113116582\n",
      "  (45465, 23012)\t0.18743882761025735\n",
      "  (45465, 740)\t0.19703211365489748\n",
      "  (45465, 55174)\t0.1770849348982256\n",
      "  (45465, 11313)\t0.1494901977317601\n",
      "  (45465, 25817)\t0.1746142345881065\n",
      "  (45465, 17272)\t0.20191670117693497\n",
      "  (45465, 17977)\t0.14001141857931765\n",
      "  (45465, 30389)\t0.23369802654538538\n",
      "  (45465, 42466)\t0.12685979671392433\n",
      "  (45465, 73408)\t0.13406907774931126\n",
      "  (45465, 74030)\t0.10752037301100266\n"
     ]
    }
   ],
   "source": [
    "print(overview_matrix)"
   ]
  },
  {
   "cell_type": "markdown",
   "id": "4cb0f8f8",
   "metadata": {},
   "source": [
    "## Building the similarity matrix"
   ]
  },
  {
   "cell_type": "code",
   "execution_count": 5,
   "id": "407813c9",
   "metadata": {},
   "outputs": [],
   "source": [
    "similarity_matrix = linear_kernel(overview_matrix,overview_matrix)"
   ]
  },
  {
   "cell_type": "code",
   "execution_count": 6,
   "id": "91376064",
   "metadata": {},
   "outputs": [
    {
     "data": {
      "text/plain": [
       "array([[1.        , 0.01504121, 0.        , ..., 0.        , 0.00595453,\n",
       "        0.        ],\n",
       "       [0.01504121, 1.        , 0.04681953, ..., 0.        , 0.02198641,\n",
       "        0.00929411],\n",
       "       [0.        , 0.04681953, 1.        , ..., 0.        , 0.01402548,\n",
       "        0.        ],\n",
       "       ...,\n",
       "       [0.        , 0.        , 0.        , ..., 1.        , 0.        ,\n",
       "        0.        ],\n",
       "       [0.00595453, 0.02198641, 0.01402548, ..., 0.        , 1.        ,\n",
       "        0.        ],\n",
       "       [0.        , 0.00929411, 0.        , ..., 0.        , 0.        ,\n",
       "        1.        ]])"
      ]
     },
     "execution_count": 6,
     "metadata": {},
     "output_type": "execute_result"
    }
   ],
   "source": [
    "similarity_matrix"
   ]
  },
  {
   "cell_type": "markdown",
   "id": "a3e9dc18",
   "metadata": {},
   "source": [
    "## Movies index mapping"
   ]
  },
  {
   "cell_type": "code",
   "execution_count": 8,
   "id": "b9ae3153",
   "metadata": {},
   "outputs": [
    {
     "data": {
      "text/plain": [
       "title\n",
       "Toy Story                          0\n",
       "Jumanji                            1\n",
       "Grumpier Old Men                   2\n",
       "Waiting to Exhale                  3\n",
       "Father of the Bride Part II        4\n",
       "                               ...  \n",
       "Subdue                         45461\n",
       "Century of Birthing            45462\n",
       "Betrayal                       45463\n",
       "Satan Triumphant               45464\n",
       "Queerama                       45465\n",
       "Length: 45466, dtype: int64"
      ]
     },
     "execution_count": 8,
     "metadata": {},
     "output_type": "execute_result"
    }
   ],
   "source": [
    "mapping = pd.Series(movies.index,index = movies['title'])\n",
    "mapping"
   ]
  },
  {
   "cell_type": "markdown",
   "id": "27c2f143",
   "metadata": {},
   "source": [
    "## Building Recommender System"
   ]
  },
  {
   "cell_type": "code",
   "execution_count": 12,
   "id": "a6e834b1",
   "metadata": {},
   "outputs": [],
   "source": [
    "def recommend_movies_based_on_plot(movie_input):\n",
    "    \n",
    "    movie_index = mapping[movie_input]\n",
    "    #get similarity values with other movies\n",
    "    \n",
    "    #similarity_score is the list of index and similarity matrix\n",
    "    similarity_score = list(enumerate(similarity_matrix[movie_index]))\n",
    "    \n",
    "    #sort in descending order the similarity score of movie inputted with all the other movies\n",
    "    similarity_score = sorted(similarity_score, key=lambda x: x[1], reverse=True)\n",
    "    \n",
    "    # Get the scores of the 10 most similar movies. Ignore the first movie.\n",
    "    similarity_score = similarity_score[1:10]\n",
    "    \n",
    "    #return movie names using the mapping series\n",
    "    movie_indices = [i[0] for i in similarity_score]\n",
    "    \n",
    "    return (movies['title'].iloc[movie_indices])"
   ]
  },
  {
   "cell_type": "code",
   "execution_count": 13,
   "id": "37d55321",
   "metadata": {},
   "outputs": [
    {
     "data": {
      "text/plain": [
       "23530                      Andy Hardy Meets Debutante\n",
       "21422                                 A Family Affair\n",
       "26304                          You're Only Young Once\n",
       "10301                          The 40 Year Old Virgin\n",
       "29369                  Andy Hardy's Private Secretary\n",
       "23843                     Andy Hardy's Blonde Trouble\n",
       "15348                                     Toy Story 3\n",
       "43427                Andy Kaufman Plays Carnegie Hall\n",
       "38476    Superstar: The Life and Times of Andy Warhol\n",
       "42721    Andy Peters: Exclamation Mark Question Point\n",
       "8327                                        The Champ\n",
       "28128                       The Mayor of Casterbridge\n",
       "21359                        Andy Hardy's Double Life\n",
       "32086                                Brother's Keeper\n",
       "Name: title, dtype: object"
      ]
     },
     "execution_count": 13,
     "metadata": {},
     "output_type": "execute_result"
    }
   ],
   "source": [
    "recommend_movies_based_on_plot('Life Begins for Andy Hardy')"
   ]
  }
 ],
 "metadata": {
  "kernelspec": {
   "display_name": "Python 3 (ipykernel)",
   "language": "python",
   "name": "python3"
  },
  "language_info": {
   "codemirror_mode": {
    "name": "ipython",
    "version": 3
   },
   "file_extension": ".py",
   "mimetype": "text/x-python",
   "name": "python",
   "nbconvert_exporter": "python",
   "pygments_lexer": "ipython3",
   "version": "3.9.12"
  }
 },
 "nbformat": 4,
 "nbformat_minor": 5
}
